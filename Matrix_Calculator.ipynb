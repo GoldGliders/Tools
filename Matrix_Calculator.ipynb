{
 "cells": [
  {
   "cell_type": "code",
   "execution_count": 9,
   "metadata": {},
   "outputs": [],
   "source": [
    "from sympy import *\n",
    "from IPython.display import display\n",
    "\n",
    "init_printing()"
   ]
  },
  {
   "cell_type": "code",
   "execution_count": 44,
   "metadata": {},
   "outputs": [],
   "source": [
    "l, g = symbols(\"l g\")\n",
    "T = 2 * 3.14 * (1 / 9.8)**0.5"
   ]
  },
  {
   "cell_type": "code",
   "execution_count": 45,
   "metadata": {},
   "outputs": [
    {
     "data": {
      "image/png": "[encoded data removed]",
      "text/latex": [
       "$$2.006072414099811$$"
      ],
      "text/plain": [
       "2.006072414099811"
      ]
     },
     "execution_count": 45,
     "metadata": {},
     "output_type": "execute_result"
    }
   ],
   "source": [
    "T"
   ]
  },
  {
   "cell_type": "code",
   "execution_count": 62,
   "metadata": {},
   "outputs": [
    {
     "data": {
      "image/png": "[encoded data removed]",
      "text/latex": [
       "$$\\left [ - 3.31384110318266 i, \\quad 3.31384110318266 i\\right ]$$"
      ],
      "text/plain": [
       "[-3.31384110318266⋅ⅈ, 3.31384110318266⋅ⅈ]"
      ]
     },
     "execution_count": 62,
     "metadata": {},
     "output_type": "execute_result"
    }
   ],
   "source": [
    "x = Symbol(\"x\")\n",
    "a = 0.35/2.16\n",
    "b = 2.00 - 0.09 * a\n",
    "y = a * x **2 + b\n",
    "solve(y - 0.2 * 1.03)"
   ]
  },
  {
   "cell_type": "code",
   "execution_count": 53,
   "metadata": {},
   "outputs": [],
   "source": [
    "T1 = 0.2/0.19\n",
    "T3 = 0.2/0.18"
   ]
  },
  {
   "cell_type": "code",
   "execution_count": 54,
   "metadata": {},
   "outputs": [
    {
     "data": {
      "image/png": "[encoded data removed]",
      "text/latex": [
       "$$0.9746794344808966$$"
      ],
      "text/plain": [
       "0.9746794344808966"
      ]
     },
     "execution_count": 54,
     "metadata": {},
     "output_type": "execute_result"
    }
   ],
   "source": [
    "1/T1**0.5"
   ]
  },
  {
   "cell_type": "code",
   "execution_count": 57,
   "metadata": {},
   "outputs": [
    {
     "data": {
      "image/png": "[encoded data removed]",
      "text/latex": [
       "$$0.7001400420140049$$"
      ],
      "text/plain": [
       "0.7001400420140049"
      ]
     },
     "execution_count": 57,
     "metadata": {},
     "output_type": "execute_result"
    }
   ],
   "source": [
    "1/(2.04)**0.5"
   ]
  },
  {
   "cell_type": "code",
   "execution_count": 65,
   "metadata": {},
   "outputs": [
    {
     "data": {
      "image/png": "[encoded data removed]",
      "text/latex": [
       "$$- 3.33333333333333 \\log{\\left (10 \\right )}$$"
      ],
      "text/plain": [
       "-3.33333333333333⋅log(10)"
      ]
     },
     "execution_count": 65,
     "metadata": {},
     "output_type": "execute_result"
    }
   ],
   "source": [
    "log(10)*(-10/3)"
   ]
  },
  {
   "cell_type": "code",
   "execution_count": 23,
   "metadata": {
    "scrolled": true
   },
   "outputs": [
    {
     "data": {
      "image/png": "[encoded data removed]",
      "text/latex": [
       "$$1$$"
      ],
      "text/plain": [
       "1"
      ]
     },
     "metadata": {},
     "output_type": "display_data"
    },
    {
     "data": {
      "image/png": "[encoded data removed]",
      "text/latex": [
       "$$\\cos{\\left (x^{2} \\right )}$$"
      ],
      "text/plain": [
       "   ⎛ 2⎞\n",
       "cos⎝x ⎠"
      ]
     },
     "metadata": {},
     "output_type": "display_data"
    },
    {
     "data": {
      "image/png": "[encoded data removed]",
      "text/latex": [
       "$$0$$"
      ],
      "text/plain": [
       "0"
      ]
     },
     "metadata": {},
     "output_type": "display_data"
    },
    {
     "data": {
      "image/png": "[encoded data removed]",
      "text/latex": [
       "$$- 2 x \\sin{\\left (x^{2} \\right )}$$"
      ],
      "text/plain": [
       "        ⎛ 2⎞\n",
       "-2⋅x⋅sin⎝x ⎠"
      ]
     },
     "metadata": {},
     "output_type": "display_data"
    },
    {
     "data": {
      "image/png": "[encoded data removed]",
      "text/latex": [
       "$$0$$"
      ],
      "text/plain": [
       "0"
      ]
     },
     "metadata": {},
     "output_type": "display_data"
    },
    {
     "data": {
      "image/png": "[encoded data removed]",
      "text/latex": [
       "$$- 4 x^{2} \\cos{\\left (x^{2} \\right )} - 2 \\sin{\\left (x^{2} \\right )}$$"
      ],
      "text/plain": [
       "     2    ⎛ 2⎞        ⎛ 2⎞\n",
       "- 4⋅x ⋅cos⎝x ⎠ - 2⋅sin⎝x ⎠"
      ]
     },
     "metadata": {},
     "output_type": "display_data"
    },
    {
     "data": {
      "image/png": "[encoded data removed]",
      "text/latex": [
       "$$0$$"
      ],
      "text/plain": [
       "0"
      ]
     },
     "metadata": {},
     "output_type": "display_data"
    },
    {
     "data": {
      "image/png": "[encoded data removed]",
      "text/latex": [
       "$$8 x^{3} \\sin{\\left (x^{2} \\right )} - 12 x \\cos{\\left (x^{2} \\right )}$$"
      ],
      "text/plain": [
       "   3    ⎛ 2⎞           ⎛ 2⎞\n",
       "8⋅x ⋅sin⎝x ⎠ - 12⋅x⋅cos⎝x ⎠"
      ]
     },
     "metadata": {},
     "output_type": "display_data"
    },
    {
     "data": {
      "image/png": "[encoded data removed]",
      "text/latex": [
       "$$-12$$"
      ],
      "text/plain": [
       "-12"
      ]
     },
     "metadata": {},
     "output_type": "display_data"
    },
    {
     "data": {
      "image/png": "[encoded data removed]",
      "text/latex": [
       "$$16 x^{4} \\cos{\\left (x^{2} \\right )} + 48 x^{2} \\sin{\\left (x^{2} \\right )} - 12 \\cos{\\left (x^{2} \\right )}$$"
      ],
      "text/plain": [
       "    4    ⎛ 2⎞       2    ⎛ 2⎞         ⎛ 2⎞\n",
       "16⋅x ⋅cos⎝x ⎠ + 48⋅x ⋅sin⎝x ⎠ - 12⋅cos⎝x ⎠"
      ]
     },
     "metadata": {},
     "output_type": "display_data"
    },
    {
     "data": {
      "image/png": "[encoded data removed]",
      "text/latex": [
       "$$0$$"
      ],
      "text/plain": [
       "0"
      ]
     },
     "metadata": {},
     "output_type": "display_data"
    },
    {
     "data": {
      "image/png": "[encoded data removed]",
      "text/latex": [
       "$$- 32 x^{5} \\sin{\\left (x^{2} \\right )} + 160 x^{3} \\cos{\\left (x^{2} \\right )} + 120 x \\sin{\\left (x^{2} \\right )}$$"
      ],
      "text/plain": [
       "      5    ⎛ 2⎞        3    ⎛ 2⎞            ⎛ 2⎞\n",
       "- 32⋅x ⋅sin⎝x ⎠ + 160⋅x ⋅cos⎝x ⎠ + 120⋅x⋅sin⎝x ⎠"
      ]
     },
     "metadata": {},
     "output_type": "display_data"
    },
    {
     "data": {
      "image/png": "[encoded data removed]",
      "text/latex": [
       "$$0$$"
      ],
      "text/plain": [
       "0"
      ]
     },
     "metadata": {},
     "output_type": "display_data"
    },
    {
     "data": {
      "image/png": "[encoded data removed]",
      "text/latex": [
       "$$- 64 x^{6} \\cos{\\left (x^{2} \\right )} - 480 x^{4} \\sin{\\left (x^{2} \\right )} + 720 x^{2} \\cos{\\left (x^{2} \\right )} + 120 \\sin{\\left (x^{2} \\right )}$$"
      ],
      "text/plain": [
       "      6    ⎛ 2⎞        4    ⎛ 2⎞        2    ⎛ 2⎞          ⎛ 2⎞\n",
       "- 64⋅x ⋅cos⎝x ⎠ - 480⋅x ⋅sin⎝x ⎠ + 720⋅x ⋅cos⎝x ⎠ + 120⋅sin⎝x ⎠"
      ]
     },
     "metadata": {},
     "output_type": "display_data"
    },
    {
     "data": {
      "image/png": "[encoded data removed]",
      "text/latex": [
       "$$0$$"
      ],
      "text/plain": [
       "0"
      ]
     },
     "metadata": {},
     "output_type": "display_data"
    },
    {
     "data": {
      "image/png": "[encoded data removed]",
      "text/latex": [
       "$$128 x^{7} \\sin{\\left (x^{2} \\right )} - 1344 x^{5} \\cos{\\left (x^{2} \\right )} - 3360 x^{3} \\sin{\\left (x^{2} \\right )} + 1680 x \\cos{\\left (x^{2} \\right )}$$"
      ],
      "text/plain": [
       "     7    ⎛ 2⎞         5    ⎛ 2⎞         3    ⎛ 2⎞             ⎛ 2⎞\n",
       "128⋅x ⋅sin⎝x ⎠ - 1344⋅x ⋅cos⎝x ⎠ - 3360⋅x ⋅sin⎝x ⎠ + 1680⋅x⋅cos⎝x ⎠"
      ]
     },
     "metadata": {},
     "output_type": "display_data"
    },
    {
     "data": {
      "image/png": "[encoded data removed]",
      "text/latex": [
       "$$1680$$"
      ],
      "text/plain": [
       "1680"
      ]
     },
     "metadata": {},
     "output_type": "display_data"
    },
    {
     "data": {
      "image/png": "[encoded data removed]",
      "text/latex": [
       "$$256 x^{8} \\cos{\\left (x^{2} \\right )} + 3584 x^{6} \\sin{\\left (x^{2} \\right )} - 13440 x^{4} \\cos{\\left (x^{2} \\right )} - 13440 x^{2} \\sin{\\left (x^{2} \\right )} + 1680 \\cos{\\left (x^{2} \\right )}$$"
      ],
      "text/plain": [
       "     8    ⎛ 2⎞         6    ⎛ 2⎞          4    ⎛ 2⎞          2    ⎛ 2⎞        \n",
       "256⋅x ⋅cos⎝x ⎠ + 3584⋅x ⋅sin⎝x ⎠ - 13440⋅x ⋅cos⎝x ⎠ - 13440⋅x ⋅sin⎝x ⎠ + 1680⋅\n",
       "\n",
       "   ⎛ 2⎞\n",
       "cos⎝x ⎠"
      ]
     },
     "metadata": {},
     "output_type": "display_data"
    },
    {
     "data": {
      "image/png": "[encoded data removed]",
      "text/latex": [
       "$$0$$"
      ],
      "text/plain": [
       "0"
      ]
     },
     "metadata": {},
     "output_type": "display_data"
    },
    {
     "data": {
      "image/png": "[encoded data removed]",
      "text/latex": [
       "$$- 512 x^{9} \\sin{\\left (x^{2} \\right )} + 9216 x^{7} \\cos{\\left (x^{2} \\right )} + 48384 x^{5} \\sin{\\left (x^{2} \\right )} - 80640 x^{3} \\cos{\\left (x^{2} \\right )} - 30240 x \\sin{\\left (x^{2} \\right )}$$"
      ],
      "text/plain": [
       "       9    ⎛ 2⎞         7    ⎛ 2⎞          5    ⎛ 2⎞          3    ⎛ 2⎞      \n",
       "- 512⋅x ⋅sin⎝x ⎠ + 9216⋅x ⋅cos⎝x ⎠ + 48384⋅x ⋅sin⎝x ⎠ - 80640⋅x ⋅cos⎝x ⎠ - 302\n",
       "\n",
       "        ⎛ 2⎞\n",
       "40⋅x⋅sin⎝x ⎠"
      ]
     },
     "metadata": {},
     "output_type": "display_data"
    },
    {
     "data": {
      "image/png": "[encoded data removed]",
      "text/latex": [
       "$$0$$"
      ],
      "text/plain": [
       "0"
      ]
     },
     "metadata": {},
     "output_type": "display_data"
    },
    {
     "data": {
      "image/png": "[encoded data removed]",
      "text/latex": [
       "$$- 1024 x^{10} \\cos{\\left (x^{2} \\right )} - 23040 x^{8} \\sin{\\left (x^{2} \\right )} + 161280 x^{6} \\cos{\\left (x^{2} \\right )} + 403200 x^{4} \\sin{\\left (x^{2} \\right )} - 302400 x^{2} \\cos{\\left (x^{2} \\right )} - 30240 \\sin{\\left (x^{2} \\right )}$$"
      ],
      "text/plain": [
       "        10    ⎛ 2⎞          8    ⎛ 2⎞           6    ⎛ 2⎞           4    ⎛ 2⎞ \n",
       "- 1024⋅x  ⋅cos⎝x ⎠ - 23040⋅x ⋅sin⎝x ⎠ + 161280⋅x ⋅cos⎝x ⎠ + 403200⋅x ⋅sin⎝x ⎠ \n",
       "\n",
       "          2    ⎛ 2⎞            ⎛ 2⎞\n",
       "- 302400⋅x ⋅cos⎝x ⎠ - 30240⋅sin⎝x ⎠"
      ]
     },
     "metadata": {},
     "output_type": "display_data"
    },
    {
     "data": {
      "image/png": "[encoded data removed]",
      "text/latex": [
       "$$0$$"
      ],
      "text/plain": [
       "0"
      ]
     },
     "metadata": {},
     "output_type": "display_data"
    },
    {
     "data": {
      "image/png": "[encoded data removed]",
      "text/latex": [
       "$$2048 x^{11} \\sin{\\left (x^{2} \\right )} - 56320 x^{9} \\cos{\\left (x^{2} \\right )} - 506880 x^{7} \\sin{\\left (x^{2} \\right )} + 1774080 x^{5} \\cos{\\left (x^{2} \\right )} + 2217600 x^{3} \\sin{\\left (x^{2} \\right )} - 665280 x \\cos{\\left (x^{2} \\right )}$$"
      ],
      "text/plain": [
       "      11    ⎛ 2⎞          9    ⎛ 2⎞           7    ⎛ 2⎞            5    ⎛ 2⎞  \n",
       "2048⋅x  ⋅sin⎝x ⎠ - 56320⋅x ⋅cos⎝x ⎠ - 506880⋅x ⋅sin⎝x ⎠ + 1774080⋅x ⋅cos⎝x ⎠ +\n",
       "\n",
       "          3    ⎛ 2⎞               ⎛ 2⎞\n",
       " 2217600⋅x ⋅sin⎝x ⎠ - 665280⋅x⋅cos⎝x ⎠"
      ]
     },
     "metadata": {},
     "output_type": "display_data"
    },
    {
     "data": {
      "image/png": "[encoded data removed]",
      "text/latex": [
       "$$-665280$$"
      ],
      "text/plain": [
       "-665280"
      ]
     },
     "metadata": {},
     "output_type": "display_data"
    },
    {
     "data": {
      "image/png": "[encoded data removed]",
      "text/latex": [
       "$$4096 x^{12} \\cos{\\left (x^{2} \\right )} + 135168 x^{10} \\sin{\\left (x^{2} \\right )} - 1520640 x^{8} \\cos{\\left (x^{2} \\right )} - 7096320 x^{6} \\sin{\\left (x^{2} \\right )} + 13305600 x^{4} \\cos{\\left (x^{2} \\right )} + 7983360 x^{2} \\sin{\\left (x^{2} \\right )} - 665280 \\cos{\\left (x^{2} \\right )}$$"
      ],
      "text/plain": [
       "      12    ⎛ 2⎞           10    ⎛ 2⎞            8    ⎛ 2⎞            6    ⎛ 2\n",
       "4096⋅x  ⋅cos⎝x ⎠ + 135168⋅x  ⋅sin⎝x ⎠ - 1520640⋅x ⋅cos⎝x ⎠ - 7096320⋅x ⋅sin⎝x \n",
       "\n",
       "⎞             4    ⎛ 2⎞            2    ⎛ 2⎞             ⎛ 2⎞\n",
       "⎠ + 13305600⋅x ⋅cos⎝x ⎠ + 7983360⋅x ⋅sin⎝x ⎠ - 665280⋅cos⎝x ⎠"
      ]
     },
     "metadata": {},
     "output_type": "display_data"
    },
    {
     "data": {
      "image/png": "[encoded data removed]",
      "text/latex": [
       "$$0$$"
      ],
      "text/plain": [
       "0"
      ]
     },
     "metadata": {},
     "output_type": "display_data"
    },
    {
     "data": {
      "image/png": "[encoded data removed]",
      "text/latex": [
       "$$- 8192 x^{13} \\sin{\\left (x^{2} \\right )} + 319488 x^{11} \\cos{\\left (x^{2} \\right )} + 4392960 x^{9} \\sin{\\left (x^{2} \\right )} - 26357760 x^{7} \\cos{\\left (x^{2} \\right )} - 69189120 x^{5} \\sin{\\left (x^{2} \\right )} + 69189120 x^{3} \\cos{\\left (x^{2} \\right )} + 17297280 x \\sin{\\left (x^{2} \\right )}$$"
      ],
      "text/plain": [
       "        13    ⎛ 2⎞           11    ⎛ 2⎞            9    ⎛ 2⎞             7    \n",
       "- 8192⋅x  ⋅sin⎝x ⎠ + 319488⋅x  ⋅cos⎝x ⎠ + 4392960⋅x ⋅sin⎝x ⎠ - 26357760⋅x ⋅cos\n",
       "\n",
       "⎛ 2⎞             5    ⎛ 2⎞             3    ⎛ 2⎞                 ⎛ 2⎞\n",
       "⎝x ⎠ - 69189120⋅x ⋅sin⎝x ⎠ + 69189120⋅x ⋅cos⎝x ⎠ + 17297280⋅x⋅sin⎝x ⎠"
      ]
     },
     "metadata": {},
     "output_type": "display_data"
    },
    {
     "data": {
      "image/png": "[encoded data removed]",
      "text/latex": [
       "$$0$$"
      ],
      "text/plain": [
       "0"
      ]
     },
     "metadata": {},
     "output_type": "display_data"
    },
    {
     "data": {
      "image/png": "[encoded data removed]",
      "text/latex": [
       "$$- 16384 x^{14} \\cos{\\left (x^{2} \\right )} - 745472 x^{12} \\sin{\\left (x^{2} \\right )} + 12300288 x^{10} \\cos{\\left (x^{2} \\right )} + 92252160 x^{8} \\sin{\\left (x^{2} \\right )} - 322882560 x^{6} \\cos{\\left (x^{2} \\right )} - 484323840 x^{4} \\sin{\\left (x^{2} \\right )} + 242161920 x^{2} \\cos{\\left (x^{2} \\right )} + 17297280 \\sin{\\left (x^{2} \\right )}$$"
      ],
      "text/plain": [
       "         14    ⎛ 2⎞           12    ⎛ 2⎞             10    ⎛ 2⎞             8 \n",
       "- 16384⋅x  ⋅cos⎝x ⎠ - 745472⋅x  ⋅sin⎝x ⎠ + 12300288⋅x  ⋅cos⎝x ⎠ + 92252160⋅x ⋅\n",
       "\n",
       "   ⎛ 2⎞              6    ⎛ 2⎞              4    ⎛ 2⎞              2    ⎛ 2⎞  \n",
       "sin⎝x ⎠ - 322882560⋅x ⋅cos⎝x ⎠ - 484323840⋅x ⋅sin⎝x ⎠ + 242161920⋅x ⋅cos⎝x ⎠ +\n",
       "\n",
       "             ⎛ 2⎞\n",
       " 17297280⋅sin⎝x ⎠"
      ]
     },
     "metadata": {},
     "output_type": "display_data"
    }
   ],
   "source": [
    "x = Symbol(\"x\")\n",
    "fx = cos(x**2)\n",
    "for i in range(15):\n",
    "    display(simplify(fx.subs(x,0)))\n",
    "    display(simplify(fx))\n",
    "    fx = diff(fx)"
   ]
  },
  {
   "cell_type": "code",
   "execution_count": 24,
   "metadata": {},
   "outputs": [
    {
     "data": {
      "image/png": "[encoded data removed]",
      "text/latex": [
       "$$\\frac{1}{24}$$"
      ],
      "text/plain": [
       "1/24"
      ]
     },
     "execution_count": 24,
     "metadata": {},
     "output_type": "execute_result"
    }
   ],
   "source": [
    "1680/factorial(8)"
   ]
  },
  {
   "cell_type": "code",
   "execution_count": null,
   "metadata": {},
   "outputs": [],
   "source": []
  }
 ],
 "metadata": {
  "kernelspec": {
   "display_name": "Python 3",
   "language": "python",
   "name": "python3"
  },
  "language_info": {
   "codemirror_mode": {
    "name": "ipython",
    "version": 3
   },
   "file_extension": ".py",
   "mimetype": "text/x-python",
   "name": "python",
   "nbconvert_exporter": "python",
   "pygments_lexer": "ipython3",
   "version": "3.7.3"
  }
 },
 "nbformat": 4,
 "nbformat_minor": 2
}
